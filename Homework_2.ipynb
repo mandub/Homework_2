{
 "cells": [
  {
   "cell_type": "markdown",
   "metadata": {},
   "source": [
    "# Homework 2 (Due Sep. 27) \n",
    "Problems marked with a (\\*) are only required for graduate students.  Undergrads may undertake them for extra credit worth half the problems point value, with no penalties incurred for an incorrect answer."
   ]
  },
  {
   "cell_type": "markdown",
   "metadata": {},
   "source": [
    "## 1. Bayesian Networks/Conditional Probability"
   ]
  },
  {
   "cell_type": "markdown",
   "metadata": {},
   "source": [
    "Consider three binary variables $a, b, c \\in \\{0, 1\\}$ having the joint distribution given by  "
   ]
  },
  {
   "cell_type": "code",
   "execution_count": 95,
   "metadata": {},
   "outputs": [],
   "source": [
    "import numpy as np\n",
    "#        | a | b | c | P(a,b,c)\n",
    "P_table = (\n",
    "np.array([[0,  0,  0,  0.192 ],\n",
    "          [0,  0,  1,  0.144 ],\n",
    "          [0,  1,  0,  0.048 ],\n",
    "          [0,  1,  1,  0.216 ],\n",
    "          [1,  0,  0,  0.192 ],\n",
    "          [1,  0,  1,  0.064 ],\n",
    "          [1,  1,  0,  0.048 ],\n",
    "          [1,  1,  1,  0.096 ]]))\n"
   ]
  },
  {
   "cell_type": "code",
   "execution_count": 96,
   "metadata": {},
   "outputs": [],
   "source": [
    "\n",
    "\n",
    "# Convert P_table (which is a probability table) to a probability array, which \n",
    "# is much more computationally sensible for a discrete valued distribution\n",
    "P_abc = np.zeros((2,2,2))\n",
    "\n",
    "for entry in P_table:\n",
    "    a = int(entry[0])\n",
    "    b = int(entry[1])\n",
    "    c = int(entry[2])\n",
    "    P = entry[3]\n",
    "    P_abc[a,b,c] = P\n"
   ]
  },
  {
   "cell_type": "markdown",
   "metadata": {},
   "source": [
    "Note that you may want to use the following functions to help you in the following problem:"
   ]
  },
  {
   "cell_type": "code",
   "execution_count": 97,
   "metadata": {},
   "outputs": [],
   "source": [
    "def marginalize(P,variables_to_marginalize=(),keepdims=False):\n",
    "    \"\"\" Marginalize a probability table, i.e. compute P(a,b) = sum_c P(a,b,c) \n",
    "    \n",
    "        Arguments: \n",
    "        \n",
    "        P (array) -> a probability array in which the dimensions correspond to random variables,\n",
    "                     the indices to variable values, and the entries to probabilities\n",
    "        variables_to_marginalize (tuple) -> a list of integers containing the \n",
    "                                    variable numbers to marginalize over\n",
    "        keepdims (boolean) -> Marginalization reduces the dimensionality of the distribution.  keepdims=False\n",
    "                       removes that dimension from the array indexing scheme.  For example P(a,b,c) has\n",
    "                       an array that is 2x2x2.  If we marginalize over variable/index 1 (aka b), then the \n",
    "                       resulting array P(a,c) is 2x2 if keepdims=False (which may change the index of a \n",
    "                       given variable.  For example, after marginalizing, variable/index 1 is now c).  \n",
    "                       Conversely, the array becomes 2x1x2 if keepdims=True.\n",
    "    \n",
    "    \"\"\"\n",
    "    # Sum over the axes given in variables_to_marginalize\n",
    "    return np.sum(P,axis=variables_to_marginalize,keepdims=keepdims)"
   ]
  },
  {
   "cell_type": "code",
   "execution_count": 98,
   "metadata": {},
   "outputs": [],
   "source": [
    "\n",
    "\n",
    "def condition(P,variables_to_condition=()):\n",
    "    \"\"\" Condition a probability table, i.e. compute P(a|c) = P(a,c)/P(c) \n",
    "    \n",
    "        Arguments: \n",
    "        \n",
    "        P (array) -> a probability array in which the dimensions correspond to random variables,\n",
    "                     the indices to variable values, and the entries to probabilities\n",
    "        variables_to_condition (tuple) -> a lisP_ab = marginalize(P_abc,variables_to_marginalize=(0,))\n",
    "P_a_given_b = condition(P_ab,variables_to_condition=(1,))t of integers containing the variables to condition on\n",
    "        \n",
    "        NOTE: This function always returns an array that is the same size as the input.  However, this array\n",
    "        no longer sums to one as does an unconditioned joint distribution.  Instead, it sums to one only given\n",
    "        a particular value of the conditioned variable/index.  For example:\n",
    "        \n",
    "        P_abc.sum()==1 -> True\n",
    "        P_ab_given_c = condition(P_abc,variables_to_condition=(2,))\n",
    "        P_ab_given_c.sum()==1 -> False\n",
    "        P_ab_given_c[:,:,0].sum()==1 -> True\n",
    "        P_ab_given_c[:,:,1].sum()==1 -> True\n",
    "   \n",
    "    \"\"\"\n",
    "    # find the variables to marginalize over to get the marginal distribuion of the\n",
    "    # variables that we wish to condition on\n",
    "    v_to_m = list(range(P.ndim))\n",
    "    for v in variables_to_condition:\n",
    "        v_to_m.remove(v)\n",
    "    # Compute the conditional by dividing the input by the output\n",
    "    return P/marginalize(P,variables_to_marginalize=tuple(v_to_m),keepdims=True)"
   ]
  },
  {
   "cell_type": "code",
   "execution_count": 112,
   "metadata": {},
   "outputs": [],
   "source": [
    "P_ab = marginalize(P_abc,variables_to_marginalize=(0,))# here it should be marginalize(P_abc,variables_to_marginalize=(2,)) \n",
    "P_a_given_b = condition(P_ab,variables_to_condition=(1,))"
   ]
  },
  {
   "cell_type": "markdown",
   "metadata": {},
   "source": [
    "### Joint distribution equivalency (20 pts)\n",
    "Show by direct evaluation that $P(a,b,c) = P(a)P(c|a)P(b|c)$ for all values of $a$,$b$, and $c$."
   ]
  },
  {
   "cell_type": "code",
   "execution_count": 113,
   "metadata": {},
   "outputs": [
    {
     "name": "stdout",
     "output_type": "stream",
     "text": [
      "[0.6 0.4]\n"
     ]
    }
   ],
   "source": [
    "P_a = marginalize(P_abc,variables_to_marginalize=(1,2))\n",
    "print P_a"
   ]
  },
  {
   "cell_type": "code",
   "execution_count": 114,
   "metadata": {},
   "outputs": [
    {
     "name": "stdout",
     "output_type": "stream",
     "text": [
      "0 0 0\n",
      "P(a,b,c)         =  0.192\n",
      "P(a)P(c|a)P(b|c) =  0.192\n",
      "_________________________\n",
      "0 0 1\n",
      "P(a,b,c)         =  0.144\n",
      "P(a)P(c|a)P(b|c) =  0.144\n",
      "_________________________\n",
      "0 1 0\n",
      "P(a,b,c)         =  0.048\n",
      "P(a)P(c|a)P(b|c) =  0.048\n",
      "_________________________\n",
      "0 1 1\n",
      "P(a,b,c)         =  0.216\n",
      "P(a)P(c|a)P(b|c) =  0.216\n",
      "_________________________\n",
      "1 0 0\n",
      "P(a,b,c)         =  0.192\n",
      "P(a)P(c|a)P(b|c) =  0.192\n",
      "_________________________\n",
      "1 0 1\n",
      "P(a,b,c)         =  0.064\n",
      "P(a)P(c|a)P(b|c) =  0.064\n",
      "_________________________\n",
      "1 1 0\n",
      "P(a,b,c)         =  0.048\n",
      "P(a)P(c|a)P(b|c) =  0.048\n",
      "_________________________\n",
      "1 1 1\n",
      "P(a,b,c)         =  0.096\n",
      "P(a)P(c|a)P(b|c) =  0.096\n",
      "_________________________\n"
     ]
    }
   ],
   "source": [
    "\n",
    "P_a = marginalize(P_abc,variables_to_marginalize=(1,2))\n",
    "\n",
    "P_ac = marginalize(P_abc,variables_to_marginalize=(1,))\n",
    "P_c_given_a = condition(P_ac,variables_to_condition=(0,))\n",
    "\n",
    "P_bc = marginalize(P_abc,variables_to_marginalize=(0,))\n",
    "P_b_given_c = condition(P_bc,variables_to_condition=(1,))\n",
    "\n",
    "#Right_hand_side =  P_a * P_c_given_a * P_c_given_b\n",
    "\n",
    "for i in range(2):\n",
    "    for j in range(2):\n",
    "        for k in range(2):\n",
    "            print i,j,k \n",
    "            print \"P(a,b,c)         = \",P_abc[i,j,k]\n",
    "            print \"P(a)P(c|a)P(b|c) = \",P_a[i]*P_c_given_a[i,k]*P_b_given_c[j,k]\n",
    "            print \"_________________________\"\n",
    "            "
   ]
  },
  {
   "cell_type": "markdown",
   "metadata": {},
   "source": [
    "### Graph Visualization (10 pts)\n",
    "\n",
    "Visualize the corresponding directed graph, either using graph software like [networkx](https://networkx.github.io/) or drawing it by hand."
   ]
  },
  {
   "cell_type": "markdown",
   "metadata": {},
   "source": [
    "Since this statment is True $P(a)P(c|a)P(b|c)$   for all values of $a$,$b$, and $c$.\n",
    "then we can Draw the gragh for it "
   ]
  },
  {
   "cell_type": "code",
   "execution_count": 115,
   "metadata": {},
   "outputs": [
    {
     "name": "stdout",
     "output_type": "stream",
     "text": [
      "['A', 'B', 'C']\n"
     ]
    },
    {
     "data": {
      "image/png": "[encoded data removed]",
      "text/plain": [
       "<matplotlib.figure.Figure at 0x7f7ff2d2be90>"
      ]
     },
     "metadata": {},
     "output_type": "display_data"
    }
   ],
   "source": [
    "import networkx as nx\n",
    "import matplotlib.pyplot as plt\n",
    "DG = nx.DiGraph()\n",
    "DG.add_node('A')\n",
    "DG.add_node('B')\n",
    "DG.add_node('C')\n",
    "print sorted(DG.nodes(), key=str)\n",
    "DG.add_edge('A','C')\n",
    "DG.add_edge('C', 'B')\n",
    "nx.draw(DG, with_labels= True)\n",
    "plt.show()\n"
   ]
  },
  {
   "cell_type": "code",
   "execution_count": 116,
   "metadata": {},
   "outputs": [
    {
     "name": "stdout",
     "output_type": "stream",
     "text": [
      "['A', 'B', 'C', 'D', 'E']\n"
     ]
    },
    {
     "data": {
      "image/png": "[encoded data removed]",
      "text/plain": [
       "<matplotlib.figure.Figure at 0x7f7ff294bc50>"
      ]
     },
     "metadata": {},
     "output_type": "display_data"
    }
   ],
   "source": [
    "DG.clear()\n",
    "DG.add_nodes_from('ABCDE')\n",
    "print sorted(DG.nodes(), key=str)\n",
    "DG.add_edge('A','B')\n",
    "DG.add_edge('C','B')\n",
    "DG.add_edge('C','D')\n",
    "DG.add_edge('D','E')\n",
    "nx.draw(DG, with_labels= True)\n",
    "plt.show()"
   ]
  },
  {
   "cell_type": "markdown",
   "metadata": {},
   "source": [
    "### A Trick Question in Graphs (\\*) (10 pts)\n",
    "Plot the graph associated with\n",
    "$$\n",
    "P(A,B,C,D,E) = P(A)P(C)P(B|A,C)P(D|C)P(E|D),\n",
    "$$\n",
    "where $A,B,C,D,E \\in \\{0,1\\}$ with conditional probability tables\n",
    "\\begin{align}\n",
    "P(A=1) &= 0.3 \\nonumber \\\\\n",
    "P(C=1) &= 0.7 \\nonumber \\\\\n",
    "P(B=1|A,C) &= \\begin{cases} 0.3\\,\\mathrm{if}\\,A=0,C=0\\\\\n",
    "                          0.7\\,\\mathrm{if}\\,A=1,C=0\\\\\n",
    "                          0.1\\,\\mathrm{if}\\,A=0,C=1\\\\\n",
    "                          0.9\\,\\mathrm{if}\\,A=1,C=1 \\end{cases} \\nonumber \\\\\n",
    "P(D=1|C) &= \\begin{cases}   0.4\\,\\mathrm{if}\\,C=0\\\\\n",
    "                          0.2\\,\\mathrm{if}\\,C=1 \\end{cases} \\nonumber \\\\\n",
    "P(E=1|D) &= \\begin{cases}   0.1\\,\\mathrm{if}\\,D=0\\\\\n",
    "                          0.1\\,\\mathrm{if}\\,D=1 \\end{cases}. \\nonumber\n",
    "\\end{align}\n",
    "Compute the probability $P(A=1|E=1,C=1)$.  Be sure to think carefully about conditional independence before pulling out your calculator."
   ]
  },
  {
   "cell_type": "markdown",
   "metadata": {},
   "source": [
    "see the pdf file in the Homework_2 file"
   ]
  },
  {
   "cell_type": "markdown",
   "metadata": {},
   "source": [
    "## 2.Gene Sequence Clustering"
   ]
  },
  {
   "cell_type": "markdown",
   "metadata": {},
   "source": [
    "### 2a. Training a Markov model (40 pts)\n",
    "Load the file genes\\_training.p, which is available in this homework archive.  genes\\_training.p contains 2000 sequences, with each sequence $\\mathbf{s}$ consisting of 20 nucleobases $s_i \\in \\mathrm{Nu},\\; \\mathrm{Nu} = \\{A,T,G,C\\}$.  Each of these sequences is generated from one of two separate Markov processes.  The label (aka class) of the process that generated the sequence is given in the dataset. \n",
    "\n",
    "Learn the Markov model for each class given the training data.  **To do this, for each class compute the prior probability $\\mathbf{\\pi}_c$ of each nucleobase (the relative frequency of each nucleobase for each class, a vector of length 4) and the matrix of transition probabilities** \n",
    "$$\n",
    "\\mathcal{A}_{c,kj} = P(s_{i+1}=\\mathrm{Nu}_j|s_{i}=\\mathrm{Nu}_k),\n",
    "$$ \n",
    "which is a 4 by 4 matrix.  As a quick sanity check, each row of $\\mathcal{A}_c$ should sum to one.  **Using these priors and transition matrices, write a function that generates a new sequence given the class**, i.e. simulates a data point. "
   ]
  },
  {
   "cell_type": "code",
   "execution_count": 117,
   "metadata": {},
   "outputs": [],
   "source": [
    "import pickle\n",
    "import numpy as np\n",
    "\n",
    "# Define some useful constants\n",
    "N_nucleobases = 4\n",
    "N_classes = 2\n",
    "nucleobases = ['A','T','G','C']\n",
    "\n",
    "# Load the training data using pickle\n",
    "sequences,labels = pickle.load(open('genes_training.p','rb'))\n",
    "# sequences is list of s , s contant 20 ATGC\n",
    "# labels is the Ss classes with 0 , and 1 value\n"
   ]
  },
  {
   "cell_type": "code",
   "execution_count": 118,
   "metadata": {},
   "outputs": [],
   "source": [
    "# Initialize the class priors and transition matrices\n",
    "pi_0 = np.zeros((N_nucleobases)) # list of 4 zroes for calss 0  \n",
    "\n",
    "pi_1 = np.zeros((N_nucleobases)) # list of 4 zeros fot class 1\n",
    "\n",
    "A_0 = np.zeros((N_nucleobases,N_nucleobases))# matrix 4.4 of 0\n",
    "A_1 = np.zeros((N_nucleobases,N_nucleobases))# matrix 4.4 of 0\n"
   ]
  },
  {
   "cell_type": "code",
   "execution_count": 119,
   "metadata": {},
   "outputs": [
    {
     "name": "stdout",
     "output_type": "stream",
     "text": [
      "[0.28145 0.26535 0.31195 0.14125]\n",
      "[0.332  0.1008 0.1901 0.3771]\n"
     ]
    }
   ],
   "source": [
    "\n",
    "##### Train prior #####\n",
    "\n",
    "# Loop over all of the sequences and labels\n",
    "for s,l in zip(sequences,labels):\n",
    "    sequence_length = len(s)\n",
    "    for p in range(sequence_length):\n",
    "        #! s is a length 20 sequence of nucleobases. \n",
    "        #For all s, count the number of times a given nucleobase appears\n",
    "        #! and record this information in the appropriate class prior (pi_0 or pi_1)\n",
    "        if l == 0:\n",
    "            pi_0[nucleobases.index(s[p])] +=1\n",
    "        else:\n",
    "            pi_1[nucleobases.index(s[p])] +=1\n",
    "        pass\n",
    "\n",
    "# Convert from counts to probabilities by normalizing\n",
    "pi_0/=pi_0.sum()\n",
    "pi_1/=pi_1.sum()\n",
    "print pi_0\n",
    "print pi_1"
   ]
  },
  {
   "cell_type": "code",
   "execution_count": 120,
   "metadata": {},
   "outputs": [
    {
     "name": "stdout",
     "output_type": "stream",
     "text": [
      "[[0.22677903 0.31910112 0.42771536 0.02640449]\n",
      " [0.20329889 0.17786169 0.26331479 0.35552464]\n",
      " [0.44653982 0.30527025 0.24381209 0.00437784]\n",
      " [0.17069543 0.24581629 0.31349944 0.26998884]]\n"
     ]
    }
   ],
   "source": [
    "\n",
    "##### Train transition matrix #####\n",
    "for s,l in zip(sequences,labels):\n",
    "    sequence_length = len(s)\n",
    "    for p in range(sequence_length-1):\n",
    "        if l==0:\n",
    "            A_0[nucleobases.index(s[p])][nucleobases.index(s[p+1])] +=1\n",
    "        else:\n",
    "            A_1[nucleobases.index(s[p])][nucleobases.index(s[p+1])] +=1\n",
    "        #! s is a length 20 sequence of nucleoboases,\n",
    "        #for all s, count the number of times that a nucleobase \n",
    "        #! transitions to another nucleobase and record this information in \n",
    "        #the appropriate transition matrix (A_0 or A_1)\n",
    "        pass\n",
    "    \n",
    "# Convert from counts to probabilities by row normalization\n",
    "A_0/=A_0.sum(axis=1)[:,np.newaxis]\n",
    "A_1/=A_1.sum(axis=1)[:,np.newaxis]\n",
    "print A_0"
   ]
  },
  {
   "cell_type": "code",
   "execution_count": null,
   "metadata": {},
   "outputs": [],
   "source": []
  },
  {
   "cell_type": "code",
   "execution_count": 121,
   "metadata": {},
   "outputs": [
    {
     "name": "stdout",
     "output_type": "stream",
     "text": [
      "String form class 0  = TTAGTGAGATCAGGTAGTGA\n",
      "String form class 1  = CCAAGAGACAGGTAGAGACA\n"
     ]
    }
   ],
   "source": [
    "##### Generate a synthetic sequence #####\n",
    "def generate_new_sequence(A,pi,n=20):\n",
    "    \"\"\"  \n",
    "    Arguments:\n",
    "    A -> Nucleobase transition matrix\n",
    "    pi -> Prior\n",
    "    n -> length of sequence to generate\n",
    "    \"\"\"\n",
    "    # Draw from the prior for the first nucleobase\n",
    "    s1 = [np.random.choice(nucleobases,p=pi)]\n",
    "    #! Write the code that uses the transition matrix to produce a length n sample\n",
    "    Letter = s1[0]\n",
    "    String = s1[0]\n",
    "    for i in range(n-1):\n",
    "        s2=[np.random.choice(nucleobases,p=A[nucleobases.index(Letter)])]\n",
    "        Letter = s2[0]\n",
    "        String = String + s2[0] \n",
    "    return String\n",
    "string_A_0 = generate_new_sequence(A_0,pi_0)\n",
    "string_A_1 = generate_new_sequence(A_1,pi_1)\n",
    "print \"String form class 0  =\",string_A_0\n",
    "print \"String form class 1  =\",string_A_1\n",
    "\n"
   ]
  },
  {
   "cell_type": "markdown",
   "metadata": {},
   "source": [
    "### 2b. A Markov classifier (*) (20 pts)\n"
   ]
  },
  {
   "cell_type": "markdown",
   "metadata": {},
   "source": [
    "Having the prior and transition probabilities gives you the ability to evaluate the likelihood of a sequence for a given class as:\n",
    "$$\n",
    "P(\\mathbf{s}) = P(s_1|\\mathbf{\\pi}_c) \\prod_{i=1}^{n-1} P(s_{i+1}|s_{i},\\mathcal{A}_c),\n",
    "$$\n",
    "where $\\mathbf{\\pi}_c$ is the class-conditioned prior probability, and $\\mathcal{A}_c$ is the class-conditioned transition matrix.  Comparing the computed likelihood for a given sequence between different classes forms the basis of a classifier in a very similar manner to naive Bayes.  The difference this time is that now each random variable depends on the one before it in the sequence, whereas in naive Bayes we assumed that all the random variables were independent.    \n",
    "\n",
    "Load the file genes\\_test.p, which is similar to genes\\_training.p.  **For each sequence, compute the likelihood for both classes and assign a label.  Compare this predicted label to the known one, and report the test set accuracy**.  As a point of comparison, my implementation achieved 98.7\\% accuracy.  "
   ]
  },
  {
   "cell_type": "code",
   "execution_count": 122,
   "metadata": {},
   "outputs": [
    {
     "name": "stdout",
     "output_type": "stream",
     "text": [
      "0.45879859809275403\n",
      "0.5412014019072459\n"
     ]
    }
   ],
   "source": [
    "print (pi_0[0]/(pi_0[0] +pi_1[0]))\n",
    "print (pi_1[0]/(pi_0[0] +pi_1[0]))"
   ]
  },
  {
   "cell_type": "code",
   "execution_count": 123,
   "metadata": {},
   "outputs": [],
   "source": [
    "sequences_test,labels_test = pickle.load(open('genes_test.p','rb'))\n",
    "sequence_probabilities_0 = []\n",
    "sequence_probabilities_1 = []\n",
    "#____________________________________\n",
    "w_0,v_0 = np.linalg.eig(A_0.T)\n",
    "w_1,v_1 = np.linalg.eig(A_1.T)\n",
    "#print v_0\n",
    "p_steady_0 = (v_0[:,0].real)/(v_0[:,0].real.sum())\n",
    "p_steady_1 = (v_1[:,0].real)/(v_1[:,0].real.sum())\n",
    "for s in sequences_test:\n",
    "    sequence_length = len(s)\n",
    "    previous_letter_0 = pi_0[nucleobases.index(s[0])] / (pi_0[nucleobases.index(s[0])] +\n",
    "                                                         pi_1[nucleobases.index(s[0])])\n",
    "    previous_letter_1 = pi_1[nucleobases.index(s[0])] / (pi_0[nucleobases.index(s[0])] +\n",
    "                                                         pi_1[nucleobases.index(s[0])])\n",
    "    posterior_class_0 = 1\n",
    "    posterior_class_1 = 1\n",
    "    for p in range(sequence_length-1):\n",
    "        var0 = A_0[nucleobases.index(s[p])][nucleobases.index(s[p+1])]\n",
    "        var1 = A_1[nucleobases.index(s[p])][nucleobases.index(s[p+1])]\n",
    "        posterior_class_0 *= previous_letter_0 * var0 \n",
    "        posterior_class_1 *= previous_letter_1 * var1\n",
    "        \n",
    "        previous_letter_0 = pi_0[nucleobases.index(s[p])] / (pi_0[nucleobases.index(s[p])] +\n",
    "                                                             pi_1[nucleobases.index(s[p])])\n",
    "        \n",
    "        previous_letter_1 = pi_1[nucleobases.index(s[p])] / (pi_0[nucleobases.index(s[p])] +\n",
    "                                                             pi_1[nucleobases.index(s[p])]) \n",
    "        \n",
    "    posterior_0 = (posterior_class_0 / (posterior_class_0 + posterior_class_1))\n",
    "    posterior_1 = (posterior_class_1 / (posterior_class_0 + posterior_class_1))\n",
    "    #print (posterior_0,posterior_1)\n",
    "    sequence_probabilities_0.append(posterior_0)\n",
    "    sequence_probabilities_1.append(posterior_1)\n",
    "    \n",
    "\n",
    "    #! Write a function that evaluates the probability of class membership for each class by multiplying the \n",
    "    #! prior by the likelihood over all symbol transitions"
   ]
  },
  {
   "cell_type": "code",
   "execution_count": 124,
   "metadata": {},
   "outputs": [
    {
     "name": "stdout",
     "output_type": "stream",
     "text": [
      "this model is correct in percentage =  96.70 %\n"
     ]
    }
   ],
   "source": [
    "correct_prediction = 0 # this is counter for correct prediction\n",
    "prediction_list= []   # list for string prediction \n",
    "for i,m in enumerate(sequences_test):\n",
    "    \n",
    "    if sequence_probabilities_0[i] > sequence_probabilities_1[i]:\n",
    "        prediction_list.append(0)\n",
    "    else:\n",
    "        prediction_list.append(1)\n",
    "\n",
    "for i,m in enumerate(sequences_test):\n",
    "    if labels_test[i]== prediction_list[i]:\n",
    "        correct_prediction +=1\n",
    "percentage = (correct_prediction/ float (len (sequences_test))) * 100  \n",
    "print \"this model is correct in percentage = \" , \"%.2f\" % percentage, \"%\"\n"
   ]
  },
  {
   "cell_type": "code",
   "execution_count": null,
   "metadata": {},
   "outputs": [],
   "source": []
  },
  {
   "cell_type": "code",
   "execution_count": null,
   "metadata": {},
   "outputs": [],
   "source": []
  }
 ],
 "metadata": {
  "kernelspec": {
   "display_name": "Python 2",
   "language": "python",
   "name": "python2"
  },
  "language_info": {
   "codemirror_mode": {
    "name": "ipython",
    "version": 2
   },
   "file_extension": ".py",
   "mimetype": "text/x-python",
   "name": "python",
   "nbconvert_exporter": "python",
   "pygments_lexer": "ipython2",
   "version": "2.7.14"
  }
 },
 "nbformat": 4,
 "nbformat_minor": 2
}
